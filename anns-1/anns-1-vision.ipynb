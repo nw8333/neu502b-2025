{
 "cells": [
  {
   "cell_type": "markdown",
   "id": "df2cae92-e267-4b37-8690-feabdd1e2f56",
   "metadata": {},
   "source": [
    "# `anns-1`: Deep learning for vision\n",
    "In this lab, we'll explore some common architectures for deep neural networks. You'll need to install [PyTorch](https://pytorch.org/) in your conda environment: `conda install pytorch torchvision -c pytorch`."
   ]
  },
  {
   "cell_type": "code",
   "execution_count": 1,
   "id": "f328c71a-b067-4170-a3f2-2767915e4e3e",
   "metadata": {},
   "outputs": [
    {
     "name": "stderr",
     "output_type": "stream",
     "text": [
      "/Users/snastase/miniconda3/envs/neu502b/lib/python3.12/site-packages/torchvision/io/image.py:14: UserWarning: Failed to load image Python extension: 'dlopen(/Users/snastase/miniconda3/envs/neu502b/lib/python3.12/site-packages/torchvision/image.so, 0x0006): Library not loaded: @rpath/libjpeg.9.dylib\n",
      "  Referenced from: <367D4265-B20F-34BD-94EB-4F3EE47C385B> /Users/snastase/miniconda3/envs/neu502b/lib/python3.12/site-packages/torchvision/image.so\n",
      "  Reason: tried: '/opt/X11/lib/flat_namespace/libjpeg.9.dylib' (no such file), '/Users/snastase/miniconda3/envs/neu502b/lib/python3.12/site-packages/torchvision/../../../libjpeg.9.dylib' (no such file), '/Users/snastase/miniconda3/envs/neu502b/lib/python3.12/site-packages/torchvision/../../../libjpeg.9.dylib' (no such file), '/Users/snastase/miniconda3/envs/neu502b/lib/python3.12/lib-dynload/../../libjpeg.9.dylib' (no such file), '/Users/snastase/miniconda3/envs/neu502b/bin/../lib/libjpeg.9.dylib' (no such file)'If you don't plan on using image functionality from `torchvision.io`, you can ignore this warning. Otherwise, there might be something wrong with your environment. Did you have `libjpeg` or `libpng` installed before building `torchvision` from source?\n",
      "  warn(\n"
     ]
    }
   ],
   "source": [
    "import numpy as np\n",
    "import matplotlib.pyplot as plt\n",
    "import torch\n",
    "from torch import nn\n",
    "from torch.utils.data import DataLoader\n",
    "from torchvision import datasets, transforms"
   ]
  },
  {
   "cell_type": "code",
   "execution_count": 2,
   "id": "3102387a-8c7a-4a15-beab-328d8363c406",
   "metadata": {},
   "outputs": [
    {
     "name": "stdout",
     "output_type": "stream",
     "text": [
      "Using mps device\n"
     ]
    }
   ],
   "source": [
    "# Get device for training (e.g. MacOS 'mps')\n",
    "device = (\n",
    "    \"cuda\"\n",
    "    if torch.cuda.is_available()\n",
    "    else \"mps\"\n",
    "    if torch.backends.mps.is_available()\n",
    "    else \"cpu\"\n",
    ")\n",
    "print(f\"Using {device} device\")"
   ]
  },
  {
   "cell_type": "markdown",
   "id": "8108cfb6-d941-4bf8-99b9-dd4334f15c81",
   "metadata": {},
   "source": [
    "### Multilayer perceptron\n",
    "In the following exercise, we'll (de)construct a fully-connected feedforward network (i.e. multilayer perceptron; MLP). We'll use the rectified linear unit (ReLU) nonlinearity at hidden and output layers. This network will take as input pixels from MNIST images of handwritten digits and learn to output the correct digit label $0$ to $9$."
   ]
  },
  {
   "cell_type": "code",
   "execution_count": 3,
   "id": "1702790e-c550-46a2-9597-5f2dae3f2120",
   "metadata": {},
   "outputs": [],
   "source": [
    "class NeuralNetwork(nn.Module):\n",
    "    def __init__(self):\n",
    "        super().__init__()\n",
    "        self.flatten = nn.Flatten()\n",
    "        self.linear_relu_stack = nn.Sequential(\n",
    "            nn.Linear(28*28, 512),\n",
    "            nn.ReLU(),\n",
    "            nn.Linear(512, 512),\n",
    "            nn.ReLU(),\n",
    "            nn.Linear(512, 10),\n",
    "        )\n",
    "\n",
    "    def forward(self, x):\n",
    "        x = self.flatten(x)\n",
    "        logits = self.linear_relu_stack(x)\n",
    "        return logits"
   ]
  },
  {
   "cell_type": "code",
   "execution_count": 4,
   "id": "e096feb5-1b44-4a41-a249-738066afcece",
   "metadata": {},
   "outputs": [
    {
     "name": "stdout",
     "output_type": "stream",
     "text": [
      "NeuralNetwork(\n",
      "  (flatten): Flatten(start_dim=1, end_dim=-1)\n",
      "  (linear_relu_stack): Sequential(\n",
      "    (0): Linear(in_features=784, out_features=512, bias=True)\n",
      "    (1): ReLU()\n",
      "    (2): Linear(in_features=512, out_features=512, bias=True)\n",
      "    (3): ReLU()\n",
      "    (4): Linear(in_features=512, out_features=10, bias=True)\n",
      "  )\n",
      ")\n"
     ]
    }
   ],
   "source": [
    "model = NeuralNetwork().to(device)\n",
    "print(model)"
   ]
  },
  {
   "cell_type": "code",
   "execution_count": 5,
   "id": "5bca3432-7621-4be7-bf40-1b648e336f83",
   "metadata": {},
   "outputs": [
    {
     "name": "stdout",
     "output_type": "stream",
     "text": [
      "torch.Size([3, 28, 28])\n"
     ]
    }
   ],
   "source": [
    "# Create a random image and confirm shape\n",
    "input_image = torch.rand(3, 28, 28)\n",
    "print(input_image.size())"
   ]
  },
  {
   "cell_type": "code",
   "execution_count": 6,
   "id": "3eb69d88-a7f8-4dec-8d93-de0713f3f61b",
   "metadata": {},
   "outputs": [
    {
     "name": "stdout",
     "output_type": "stream",
     "text": [
      "torch.Size([3, 784])\n"
     ]
    }
   ],
   "source": [
    "# Flatten image and inspect shape\n",
    "flatten = nn.Flatten()\n",
    "flat_image = flatten(input_image)\n",
    "print(flat_image.size())"
   ]
  },
  {
   "cell_type": "code",
   "execution_count": 7,
   "id": "8a234b7e-8b6c-4a48-823e-ffdb72b0b3a6",
   "metadata": {},
   "outputs": [
    {
     "name": "stdout",
     "output_type": "stream",
     "text": [
      "torch.Size([3, 20])\n"
     ]
    }
   ],
   "source": [
    "# Pass flattened input image through first layer\n",
    "layer1 = nn.Linear(in_features=28*28, out_features=20)\n",
    "hidden1 = layer1(flat_image)\n",
    "print(hidden1.size())"
   ]
  },
  {
   "cell_type": "code",
   "execution_count": 8,
   "id": "2e2a36a4-1e7f-4608-af82-3b3855eb4eb8",
   "metadata": {},
   "outputs": [
    {
     "name": "stdout",
     "output_type": "stream",
     "text": [
      "Before ReLU: tensor([[ 0.1494, -0.0192, -0.0778, -0.0360,  0.2544,  0.0497,  0.1793,  0.5193,\n",
      "          0.2267,  0.0706,  0.0390,  0.3626,  0.2386, -0.2266, -0.0674, -0.1057,\n",
      "         -0.0605,  0.1466, -0.1666,  0.2050],\n",
      "        [ 0.2361,  0.0026, -0.1876,  0.1045,  0.3015,  0.2611,  0.2626,  0.5896,\n",
      "          0.0936, -0.0553, -0.2797,  0.5407,  0.0157, -0.0383, -0.0080, -0.2019,\n",
      "         -0.2719,  0.1114,  0.0576,  0.1122],\n",
      "        [ 0.0529, -0.2187, -0.2689, -0.2597,  0.3775,  0.0130,  0.1517,  0.7412,\n",
      "          0.0394, -0.1736,  0.0705,  0.5213, -0.0695, -0.2812,  0.1812, -0.1023,\n",
      "          0.0484, -0.2455, -0.3618, -0.0042]], grad_fn=<AddmmBackward0>)\n",
      "\n",
      "\n",
      "After ReLU: tensor([[0.1494, 0.0000, 0.0000, 0.0000, 0.2544, 0.0497, 0.1793, 0.5193, 0.2267,\n",
      "         0.0706, 0.0390, 0.3626, 0.2386, 0.0000, 0.0000, 0.0000, 0.0000, 0.1466,\n",
      "         0.0000, 0.2050],\n",
      "        [0.2361, 0.0026, 0.0000, 0.1045, 0.3015, 0.2611, 0.2626, 0.5896, 0.0936,\n",
      "         0.0000, 0.0000, 0.5407, 0.0157, 0.0000, 0.0000, 0.0000, 0.0000, 0.1114,\n",
      "         0.0576, 0.1122],\n",
      "        [0.0529, 0.0000, 0.0000, 0.0000, 0.3775, 0.0130, 0.1517, 0.7412, 0.0394,\n",
      "         0.0000, 0.0705, 0.5213, 0.0000, 0.0000, 0.1812, 0.0000, 0.0484, 0.0000,\n",
      "         0.0000, 0.0000]], grad_fn=<ReluBackward0>)\n"
     ]
    }
   ],
   "source": [
    "# Introduce nonlinearity ReLU\n",
    "print(f\"Before ReLU: {hidden1}\\n\\n\")\n",
    "hidden1 = nn.ReLU()(hidden1)\n",
    "print(f\"After ReLU: {hidden1}\")"
   ]
  },
  {
   "cell_type": "code",
   "execution_count": 9,
   "id": "a444a552-d5cc-43c7-9563-3c8c423a92c8",
   "metadata": {},
   "outputs": [],
   "source": [
    "# Chain these operations into sequence\n",
    "seq_modules = nn.Sequential(\n",
    "    flatten,\n",
    "    layer1,\n",
    "    nn.ReLU(),\n",
    "    nn.Linear(20, 10)\n",
    ")\n",
    "\n",
    "input_image = torch.rand(3, 28, 28)\n",
    "logits = seq_modules(input_image)"
   ]
  },
  {
   "cell_type": "code",
   "execution_count": 10,
   "id": "21dea576-0d0b-4c23-beb7-d536b603f1c2",
   "metadata": {},
   "outputs": [
    {
     "name": "stdout",
     "output_type": "stream",
     "text": [
      "Logits: tensor([[-0.1552,  0.2437, -0.2456,  0.3958, -0.2293, -0.1989, -0.1963,  0.0040,\n",
      "          0.0034, -0.6217],\n",
      "        [-0.0984,  0.1159, -0.1967,  0.3043, -0.0892, -0.2845, -0.1889, -0.0206,\n",
      "         -0.0906, -0.4959],\n",
      "        [-0.2448,  0.1873, -0.1283,  0.2827, -0.1056, -0.2625, -0.1561, -0.1130,\n",
      "         -0.1084, -0.4289]], grad_fn=<AddmmBackward0>)\n",
      "Min: -0.621714\n",
      "Max: 0.395797\n",
      "Softmaxed: tensor([[0.0913, 0.1360, 0.0834, 0.1584, 0.0848, 0.0874, 0.0876, 0.1070, 0.1070,\n",
      "         0.0572],\n",
      "        [0.0985, 0.1220, 0.0893, 0.1473, 0.0994, 0.0818, 0.0900, 0.1064, 0.0992,\n",
      "         0.0662],\n",
      "        [0.0855, 0.1316, 0.0960, 0.1448, 0.0982, 0.0840, 0.0934, 0.0975, 0.0979,\n",
      "         0.0711]], grad_fn=<SoftmaxBackward0>)\n",
      "Min: 0.057246\n",
      "Max: 0.158360\n",
      "tensor([1., 1., 1.], grad_fn=<SumBackward1>)\n"
     ]
    }
   ],
   "source": [
    "# Softmax predictions into probability distribution\n",
    "softmax = nn.Softmax(dim = 1)\n",
    "pred_probab = softmax(logits)\n",
    "print(f\"Logits: {logits}\\nMin: {logits.min():.6f}\\nMax: {logits.max():.6f}\")\n",
    "print(f\"Softmaxed: {pred_probab}\\nMin: {pred_probab.min():.6f}\\n\"\n",
    "      f\"Max: {pred_probab.max():.6f}\\n{pred_probab.sum(axis=1)}\")"
   ]
  },
  {
   "cell_type": "code",
   "execution_count": 11,
   "id": "6a466c77-510c-4df0-8058-b281e1e3181f",
   "metadata": {},
   "outputs": [],
   "source": [
    "# Download training data from open datasets.\n",
    "training_data = datasets.MNIST(\n",
    "    root=\"data\",\n",
    "    train=True,\n",
    "    download=True,\n",
    "    transform=transforms.ToTensor(),\n",
    ")\n",
    "\n",
    "# Download test data from open datasets.\n",
    "test_data = datasets.MNIST(\n",
    "    root=\"data\",\n",
    "    train=False,\n",
    "    download=True,\n",
    "    transform=transforms.ToTensor(),\n",
    ")"
   ]
  },
  {
   "cell_type": "code",
   "execution_count": 12,
   "id": "a6de37cc-4d19-4fe5-b2b2-31dacb6b9fb7",
   "metadata": {},
   "outputs": [
    {
     "name": "stdout",
     "output_type": "stream",
     "text": [
      "Shape of X [N, C, H, W]: torch.Size([64, 1, 28, 28])\n",
      "Shape of y: torch.Size([64]) torch.int64\n"
     ]
    }
   ],
   "source": [
    "batch_size = 64\n",
    "\n",
    "# Create data loaders\n",
    "train_dataloader = DataLoader(training_data, batch_size=batch_size)\n",
    "test_dataloader = DataLoader(test_data, batch_size=batch_size)\n",
    "\n",
    "for X, y in test_dataloader:\n",
    "    print(f\"Shape of X [N, C, H, W]: {X.shape}\")\n",
    "    print(f\"Shape of y: {y.shape} {y.dtype}\")\n",
    "    break"
   ]
  },
  {
   "cell_type": "code",
   "execution_count": 13,
   "id": "584752ad-2bc4-4fb9-b840-ed7cfb084030",
   "metadata": {},
   "outputs": [
    {
     "data": {
      "image/png": "[encoded data removed]",
      "text/plain": [
       "<Figure size 480x480 with 1 Axes>"
      ]
     },
     "metadata": {},
     "output_type": "display_data"
    }
   ],
   "source": [
    "# Visualize an example MNIST digit\n",
    "mnist_id = 0\n",
    "plt.matshow(X[mnist_id, 0], cmap='gray');"
   ]
  },
  {
   "cell_type": "code",
   "execution_count": 14,
   "id": "94da2dea-dde7-44f0-823d-ffdaabf738b1",
   "metadata": {},
   "outputs": [
    {
     "name": "stdout",
     "output_type": "stream",
     "text": [
      "NeuralNetwork(\n",
      "  (flatten): Flatten(start_dim=1, end_dim=-1)\n",
      "  (linear_relu_stack): Sequential(\n",
      "    (0): Linear(in_features=784, out_features=512, bias=True)\n",
      "    (1): ReLU()\n",
      "    (2): Linear(in_features=512, out_features=512, bias=True)\n",
      "    (3): ReLU()\n",
      "    (4): Linear(in_features=512, out_features=10, bias=True)\n",
      "  )\n",
      ")\n"
     ]
    }
   ],
   "source": [
    "# Redefine our model\n",
    "class NeuralNetwork(nn.Module):\n",
    "    def __init__(self):\n",
    "        super().__init__()\n",
    "        \n",
    "        self.flatten = nn.Flatten()\n",
    "        self.linear_relu_stack = nn.Sequential(\n",
    "            nn.Linear(28*28, 512),\n",
    "            nn.ReLU(),\n",
    "            nn.Linear(512, 512),\n",
    "            nn.ReLU(),\n",
    "            nn.Linear(512, 10)\n",
    "        )\n",
    "\n",
    "    def forward(self, x):\n",
    "        x = self.flatten(x)\n",
    "        logits = self.linear_relu_stack(x)\n",
    "        return logits\n",
    "\n",
    "model = NeuralNetwork().to(device)\n",
    "print(model)"
   ]
  },
  {
   "cell_type": "code",
   "execution_count": 15,
   "id": "33778971-6d2d-4220-b992-267f354ba2f7",
   "metadata": {},
   "outputs": [],
   "source": [
    "# Define a loss function and optimizer\n",
    "loss_fn = nn.CrossEntropyLoss()\n",
    "optimizer = torch.optim.SGD(model.parameters(), lr=1e-3)"
   ]
  },
  {
   "cell_type": "code",
   "execution_count": 16,
   "id": "81df5516-9ea1-4b66-a89d-568b947bb3c5",
   "metadata": {},
   "outputs": [],
   "source": [
    "def train(dataloader, model, loss_fn, optimizer):\n",
    "    size = len(dataloader.dataset)\n",
    "\n",
    "    # Train the model\n",
    "    model.train()\n",
    "    \n",
    "    for batch, (X, y) in enumerate(dataloader):\n",
    "        X, y = X.to(device), y.to(device)\n",
    "\n",
    "        # Compute prediction error\n",
    "        pred = model(X)\n",
    "        loss = loss_fn(pred, y)\n",
    "\n",
    "        # Clear gradients for this training step\n",
    "        optimizer.zero_grad()\n",
    "        \n",
    "        # Compute gradients via backpropagation\n",
    "        loss.backward()\n",
    "        \n",
    "        # Apply gradients\n",
    "        optimizer.step()\n",
    "\n",
    "        if batch % 100 == 0:\n",
    "            loss, current = loss.item(), batch * len(X)\n",
    "            print(f\"loss: {loss:>7f}  [{current:>5d}/{size:>5d}]\")"
   ]
  },
  {
   "cell_type": "code",
   "execution_count": 17,
   "id": "16be8b49-379c-4eb5-ae1d-b3f22bdab415",
   "metadata": {},
   "outputs": [],
   "source": [
    "def test(dataloader, model, loss_fn):\n",
    "    size = len(dataloader.dataset)\n",
    "    num_batches = len(dataloader)\n",
    "    \n",
    "    # Test the model\n",
    "    model.eval()\n",
    "\n",
    "    test_loss, correct = 0, 0\n",
    "    with torch.no_grad():\n",
    "        for X, y in dataloader:\n",
    "            X, y = X.to(device), y.to(device)\n",
    "            \n",
    "            # Compute model predictions on test set\n",
    "            pred = model(X)\n",
    "            \n",
    "            # Compute loss between predicted and actual labels\n",
    "            test_loss += loss_fn(pred, y).item()\n",
    "            \n",
    "            # Number correct for accuracy\n",
    "            correct += (pred.max(axis=1).indices == y).type(torch.float).sum().item()\n",
    "    test_loss /= num_batches\n",
    "    correct /= size\n",
    "    print(f\"Test error: \\n Accuracy: {(100*correct):>0.1f}%, mean loss: {test_loss:>8f} \\n\")"
   ]
  },
  {
   "cell_type": "code",
   "execution_count": 18,
   "id": "2790151c-33e6-45af-a5dd-274d9b86de9f",
   "metadata": {},
   "outputs": [
    {
     "name": "stdout",
     "output_type": "stream",
     "text": [
      "Epoch 1\n",
      "-------------------------------\n",
      "loss: 2.304243  [    0/60000]\n",
      "loss: 2.294697  [ 6400/60000]\n",
      "loss: 2.293162  [12800/60000]\n",
      "loss: 2.296443  [19200/60000]\n",
      "loss: 2.286513  [25600/60000]\n",
      "loss: 2.276189  [32000/60000]\n",
      "loss: 2.266360  [38400/60000]\n",
      "loss: 2.272683  [44800/60000]\n",
      "loss: 2.265659  [51200/60000]\n",
      "loss: 2.262096  [57600/60000]\n",
      "Test error: \n",
      " Accuracy: 43.3%, mean loss: 2.258112 \n",
      "\n",
      "Epoch 2\n",
      "-------------------------------\n",
      "loss: 2.259550  [    0/60000]\n",
      "loss: 2.247411  [ 6400/60000]\n",
      "loss: 2.255322  [12800/60000]\n",
      "loss: 2.238732  [19200/60000]\n",
      "loss: 2.240104  [25600/60000]\n",
      "loss: 2.227487  [32000/60000]\n",
      "loss: 2.209081  [38400/60000]\n",
      "loss: 2.231813  [44800/60000]\n",
      "loss: 2.206499  [51200/60000]\n",
      "loss: 2.200574  [57600/60000]\n",
      "Test error: \n",
      " Accuracy: 57.1%, mean loss: 2.196673 \n",
      "\n",
      "Epoch 3\n",
      "-------------------------------\n",
      "loss: 2.196612  [    0/60000]\n",
      "loss: 2.179090  [ 6400/60000]\n",
      "loss: 2.199589  [12800/60000]\n",
      "loss: 2.153221  [19200/60000]\n",
      "loss: 2.167928  [25600/60000]\n",
      "loss: 2.150754  [32000/60000]\n",
      "loss: 2.117320  [38400/60000]\n",
      "loss: 2.160633  [44800/60000]\n",
      "loss: 2.108896  [51200/60000]\n",
      "loss: 2.096507  [57600/60000]\n",
      "Test error: \n",
      " Accuracy: 62.8%, mean loss: 2.091583 \n",
      "\n",
      "Epoch 4\n",
      "-------------------------------\n",
      "loss: 2.090655  [    0/60000]\n",
      "loss: 2.062323  [ 6400/60000]\n",
      "loss: 2.101621  [12800/60000]\n",
      "loss: 2.007959  [19200/60000]\n",
      "loss: 2.040678  [25600/60000]\n",
      "loss: 2.015586  [32000/60000]\n",
      "loss: 1.957683  [38400/60000]\n",
      "loss: 2.030788  [44800/60000]\n",
      "loss: 1.939163  [51200/60000]\n",
      "loss: 1.916196  [57600/60000]\n",
      "Test error: \n",
      " Accuracy: 66.9%, mean loss: 1.908081 \n",
      "\n",
      "Epoch 5\n",
      "-------------------------------\n",
      "loss: 1.909023  [    0/60000]\n",
      "loss: 1.861740  [ 6400/60000]\n",
      "loss: 1.927022  [12800/60000]\n",
      "loss: 1.771174  [19200/60000]\n",
      "loss: 1.817842  [25600/60000]\n",
      "loss: 1.783290  [32000/60000]\n",
      "loss: 1.700793  [38400/60000]\n",
      "loss: 1.815660  [44800/60000]\n",
      "loss: 1.674008  [51200/60000]\n",
      "loss: 1.641745  [57600/60000]\n",
      "Test error: \n",
      " Accuracy: 71.4%, mean loss: 1.626207 \n",
      "\n",
      "Done!\n"
     ]
    }
   ],
   "source": [
    "# Fit the model!\n",
    "epochs = 5\n",
    "for t in range(epochs):\n",
    "    print(f\"Epoch {t+1}\\n-------------------------------\")\n",
    "    train(train_dataloader, model, loss_fn, optimizer)\n",
    "    test(test_dataloader, model, loss_fn)\n",
    "print(\"Done!\")"
   ]
  },
  {
   "cell_type": "code",
   "execution_count": 19,
   "id": "2a858308-1bce-41a3-8c98-36d21abc5063",
   "metadata": {},
   "outputs": [
    {
     "name": "stdout",
     "output_type": "stream",
     "text": [
      "Predicted: \"6\", Actual: \"5\"\n"
     ]
    },
    {
     "data": {
      "image/png": "[encoded data removed]",
      "text/plain": [
       "<Figure size 480x480 with 1 Axes>"
      ]
     },
     "metadata": {},
     "output_type": "display_data"
    }
   ],
   "source": [
    "# Visualize model predictions from the test set\n",
    "classes = np.arange(10)\n",
    "test_id = 8\n",
    "\n",
    "x, y = test_data[test_id][0], test_data[test_id][1]\n",
    "with torch.no_grad():\n",
    "    plt.matshow(x[0], cmap='gray')\n",
    "    x, y = x.to(device), y\n",
    "    pred = model(x)\n",
    "    predicted, actual = classes[pred.max(axis=1).indices], classes[y]\n",
    "    print(f'Predicted: \"{predicted}\", Actual: \"{actual}\"')"
   ]
  },
  {
   "cell_type": "markdown",
   "id": "87c7f659-6906-4b8d-b75b-c80595dc3d44",
   "metadata": {},
   "source": [
    "### Convolutional neural network\n",
    "In this excercise, we'll perform the same digit recognition task using a convolutional neural network (CNN). For brevity, the CNN will comprise two convolutional layers followed by max-pooling layers, culminating in a single fully-connected layer. "
   ]
  },
  {
   "cell_type": "code",
   "execution_count": 20,
   "id": "b90f50eb-9d4f-4d4f-9048-399992ae5c6d",
   "metadata": {},
   "outputs": [
    {
     "name": "stdout",
     "output_type": "stream",
     "text": [
      "ConvNet(\n",
      "  (conv1): Sequential(\n",
      "    (0): Conv2d(1, 16, kernel_size=(4, 4), stride=(1, 1), padding=(2, 2))\n",
      "    (1): ReLU()\n",
      "    (2): MaxPool2d(kernel_size=2, stride=2, padding=0, dilation=1, ceil_mode=False)\n",
      "  )\n",
      "  (conv2): Sequential(\n",
      "    (0): Conv2d(16, 32, kernel_size=(4, 4), stride=(1, 1), padding=(2, 2))\n",
      "    (1): ReLU()\n",
      "    (2): MaxPool2d(kernel_size=2, stride=2, padding=0, dilation=1, ceil_mode=False)\n",
      "  )\n",
      "  (out): Linear(in_features=1568, out_features=10, bias=True)\n",
      ")\n"
     ]
    }
   ],
   "source": [
    "class ConvNet(nn.Module):\n",
    "    def __init__(self):\n",
    "        super(ConvNet, self).__init__()\n",
    "\n",
    "        self.conv1 = nn.Sequential(         \n",
    "            nn.Conv2d(\n",
    "                in_channels=1,              \n",
    "                out_channels=16,            \n",
    "                kernel_size=4,              \n",
    "                stride=1,                   \n",
    "                padding=2,                  \n",
    "            ),                              \n",
    "            nn.ReLU(),                      \n",
    "            nn.MaxPool2d(kernel_size=2),    \n",
    "        )\n",
    "        self.conv2 = nn.Sequential(         \n",
    "            nn.Conv2d(16, 32, 4, 1, 2),     \n",
    "            nn.ReLU(),                      \n",
    "            nn.MaxPool2d(2),                \n",
    "        )\n",
    "\n",
    "        # Fully connected layer outputs 10 classes\n",
    "        self.out = nn.Linear(32 * 7 * 7, 10)\n",
    "\n",
    "    def forward(self, x):\n",
    "        x = self.conv1(x)\n",
    "        x = self.conv2(x)\n",
    "\n",
    "        # Flatten the output of conv2 to (batch_size, 32 * 7 * 7)\n",
    "        x = x.view(x.size(0), -1)       \n",
    "        output = self.out(x)\n",
    "        return output\n",
    "\n",
    "model = ConvNet().to(device)\n",
    "print(model)"
   ]
  },
  {
   "cell_type": "code",
   "execution_count": 21,
   "id": "62cbf5dd-6d0b-45b8-9458-e359cace5328",
   "metadata": {},
   "outputs": [],
   "source": [
    "# Define same loss and optimizer as above\n",
    "loss_fn = nn.CrossEntropyLoss()\n",
    "optimizer = torch.optim.SGD(model.parameters(), lr=1e-3)"
   ]
  },
  {
   "cell_type": "code",
   "execution_count": 22,
   "id": "18f60dea-266e-4763-9b3b-b3238305f6d3",
   "metadata": {},
   "outputs": [
    {
     "name": "stdout",
     "output_type": "stream",
     "text": [
      "Epoch 1\n",
      "-------------------------------\n",
      "loss: 2.310146  [    0/60000]\n",
      "loss: 2.304029  [ 6400/60000]\n",
      "loss: 2.289904  [12800/60000]\n",
      "loss: 2.280433  [19200/60000]\n",
      "loss: 2.288378  [25600/60000]\n",
      "loss: 2.284853  [32000/60000]\n",
      "loss: 2.264970  [38400/60000]\n",
      "loss: 2.272026  [44800/60000]\n",
      "loss: 2.255702  [51200/60000]\n",
      "loss: 2.237698  [57600/60000]\n",
      "Test error: \n",
      " Accuracy: 47.4%, mean loss: 2.244536 \n",
      "\n",
      "Epoch 2\n",
      "-------------------------------\n",
      "loss: 2.249099  [    0/60000]\n",
      "loss: 2.233713  [ 6400/60000]\n",
      "loss: 2.232458  [12800/60000]\n",
      "loss: 2.181472  [19200/60000]\n",
      "loss: 2.199187  [25600/60000]\n",
      "loss: 2.185049  [32000/60000]\n",
      "loss: 2.127254  [38400/60000]\n",
      "loss: 2.143290  [44800/60000]\n",
      "loss: 2.079287  [51200/60000]\n",
      "loss: 2.013330  [57600/60000]\n",
      "Test error: \n",
      " Accuracy: 68.5%, mean loss: 2.012791 \n",
      "\n",
      "Epoch 3\n",
      "-------------------------------\n",
      "loss: 2.024097  [    0/60000]\n",
      "loss: 1.941519  [ 6400/60000]\n",
      "loss: 1.904058  [12800/60000]\n",
      "loss: 1.704564  [19200/60000]\n",
      "loss: 1.637723  [25600/60000]\n",
      "loss: 1.519232  [32000/60000]\n",
      "loss: 1.302003  [38400/60000]\n",
      "loss: 1.331592  [44800/60000]\n",
      "loss: 1.122565  [51200/60000]\n",
      "loss: 0.971178  [57600/60000]\n",
      "Test error: \n",
      " Accuracy: 80.3%, mean loss: 0.923816 \n",
      "\n",
      "Epoch 4\n",
      "-------------------------------\n",
      "loss: 0.960785  [    0/60000]\n",
      "loss: 0.796248  [ 6400/60000]\n",
      "loss: 0.757576  [12800/60000]\n",
      "loss: 0.684471  [19200/60000]\n",
      "loss: 0.653458  [25600/60000]\n",
      "loss: 0.621045  [32000/60000]\n",
      "loss: 0.513655  [38400/60000]\n",
      "loss: 0.686632  [44800/60000]\n",
      "loss: 0.637053  [51200/60000]\n",
      "loss: 0.575265  [57600/60000]\n",
      "Test error: \n",
      " Accuracy: 85.9%, mean loss: 0.523128 \n",
      "\n",
      "Epoch 5\n",
      "-------------------------------\n",
      "loss: 0.546529  [    0/60000]\n",
      "loss: 0.495667  [ 6400/60000]\n",
      "loss: 0.424087  [12800/60000]\n",
      "loss: 0.478624  [19200/60000]\n",
      "loss: 0.440021  [25600/60000]\n",
      "loss: 0.454728  [32000/60000]\n",
      "loss: 0.345361  [38400/60000]\n",
      "loss: 0.534265  [44800/60000]\n",
      "loss: 0.505824  [51200/60000]\n",
      "loss: 0.494649  [57600/60000]\n",
      "Test error: \n",
      " Accuracy: 88.2%, mean loss: 0.416944 \n",
      "\n",
      "Done!\n"
     ]
    }
   ],
   "source": [
    "# Fit the model!\n",
    "epochs = 5\n",
    "for t in range(epochs):\n",
    "    print(f\"Epoch {t+1}\\n-------------------------------\")\n",
    "    train(train_dataloader, model, loss_fn, optimizer)\n",
    "    test(test_dataloader, model, loss_fn)\n",
    "print(\"Done!\")"
   ]
  }
 ],
 "metadata": {
  "kernelspec": {
   "display_name": "Python 3 (ipykernel)",
   "language": "python",
   "name": "python3"
  },
  "language_info": {
   "codemirror_mode": {
    "name": "ipython",
    "version": 3
   },
   "file_extension": ".py",
   "mimetype": "text/x-python",
   "name": "python",
   "nbconvert_exporter": "python",
   "pygments_lexer": "ipython3",
   "version": "3.12.9"
  }
 },
 "nbformat": 4,
 "nbformat_minor": 5
}
